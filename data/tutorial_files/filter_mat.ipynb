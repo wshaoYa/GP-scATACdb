{
 "cells": [
  {
   "cell_type": "markdown",
   "metadata": {},
   "source": [
    "## Filtered data tutorial"
   ]
  },
  {
   "cell_type": "code",
   "execution_count": 2,
   "metadata": {},
   "outputs": [],
   "source": [
    "# Load necessary libraries\n",
    "library(Matrix)"
   ]
  },
  {
   "cell_type": "markdown",
   "metadata": {},
   "source": [
    "## Loading data\n",
    "- The sample csv data can be downloaded from the download page"
   ]
  },
  {
   "cell_type": "code",
   "execution_count": 15,
   "metadata": {},
   "outputs": [],
   "source": [
    "# wt\n",
    "WT_mat <- as.matrix(read.csv(\n",
    "  file = \"../norm_WT_gene_activity_by_cluster.csv\",\n",
    "  header = TRUE,\n",
    "  row.names = 1\n",
    "))\n",
    "\n",
    "# ko\n",
    "KO_mat <- as.matrix(read.csv(\n",
    "  file = \"../norm_KO_gene_activity_by_cluster.csv\",\n",
    "  header = TRUE,\n",
    "  row.names = 1\n",
    "))"
   ]
  },
  {
   "cell_type": "markdown",
   "metadata": {},
   "source": [
    "## Filter matrix (gene by cluster) to the same latitude as GRN\n",
    "- It is used for subsequent simulation of disturbance propagation"
   ]
  },
  {
   "cell_type": "code",
   "execution_count": 16,
   "metadata": {},
   "outputs": [],
   "source": [
    "# Sort the two matrices lexicographically by row name （Because GRN is also sorted）\n",
    "rownames_WT <- rownames(WT_mat)\n",
    "rownames_WT_ordered <- rownames_WT[order(rownames_WT)]\n",
    "WT_mat <- WT_mat[rownames_WT_ordered, ]\n",
    "\n",
    "rownames_KO <- rownames(KO_mat)\n",
    "rownames_KO_ordered <- rownames_KO[order(rownames_KO)]\n",
    "KO_mat <- KO_mat[rownames_KO_ordered, ]"
   ]
  },
  {
   "cell_type": "code",
   "execution_count": 17,
   "metadata": {},
   "outputs": [],
   "source": [
    "# Load the GRN we generated in the previous step\n",
    "GRN = readRDS(file = \"../mm10_scATAC_GRN.rds\")"
   ]
  },
  {
   "cell_type": "code",
   "execution_count": 18,
   "metadata": {},
   "outputs": [],
   "source": [
    "# Filter line name\n",
    "GRN_genes <- rownames(GRN)\n",
    "matrix_genes <- rownames(WT_mat)\n",
    "common_genes <- intersect(GRN_genes, matrix_genes)\n",
    "\n",
    "WT_mat <- WT_mat[matrix_genes %in% common_genes, ]\n",
    "KO_mat <- KO_mat[matrix_genes %in% common_genes, ]"
   ]
  },
  {
   "cell_type": "markdown",
   "metadata": {},
   "source": [
    "## Save file"
   ]
  },
  {
   "cell_type": "code",
   "execution_count": 56,
   "metadata": {},
   "outputs": [],
   "source": [
    "# Save as csv for subsequent perturbation propagation and refine GRN\n",
    "write.csv(WT_mat, file = \"../norm_filtered_WT_gene_activity_by_cluster.csv\", row.names = TRUE)\n",
    "write.csv(KO_mat, file = \"../norm_filtered_KO_gene_activity_by_cluster.csv\", row.names = TRUE)"
   ]
  },
  {
   "cell_type": "code",
   "execution_count": null,
   "metadata": {},
   "outputs": [],
   "source": []
  }
 ],
 "metadata": {
  "kernelspec": {
   "display_name": "R [conda env:r4]",
   "language": "R",
   "name": "conda-env-r4-r"
  },
  "language_info": {
   "codemirror_mode": "r",
   "file_extension": ".r",
   "mimetype": "text/x-r-source",
   "name": "R",
   "pygments_lexer": "r",
   "version": "4.2.3"
  }
 },
 "nbformat": 4,
 "nbformat_minor": 2
}
