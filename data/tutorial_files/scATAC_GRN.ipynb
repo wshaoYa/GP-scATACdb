{
 "cells": [
  {
   "cell_type": "markdown",
   "metadata": {},
   "source": [
    "# Generate GRN tutorial"
   ]
  },
  {
   "cell_type": "markdown",
   "metadata": {},
   "source": [
    "## Initialization\n",
    "- We loaded necessary R packages which were used for the data analysis."
   ]
  },
  {
   "cell_type": "code",
   "execution_count": 2,
   "metadata": {},
   "outputs": [],
   "source": [
    "library('devtools')\n",
    "library('scTenifoldNet')\n",
    "library('stats')\n",
    "library('Matrix')"
   ]
  },
  {
   "cell_type": "markdown",
   "metadata": {},
   "source": [
    "## Loading data\n",
    "- Use normalized gene activities as a matrix (gene by cell format)\n",
    "- The sample rds data can be downloaded from the download page"
   ]
  },
  {
   "cell_type": "code",
   "execution_count": 16,
   "metadata": {},
   "outputs": [],
   "source": [
    "wt_mat <- readRDS(file = \"../norm_WT_gene_activity_by_cell.rds\") "
   ]
  },
  {
   "cell_type": "markdown",
   "metadata": {},
   "source": [
    "## scTenifoldKnk core code is extracted to generate GRN"
   ]
  },
  {
   "cell_type": "code",
   "execution_count": 18,
   "metadata": {},
   "outputs": [],
   "source": [
    "# Conditional filtering\n",
    "qFilter <- function(X, q = 0){\n",
    "  X <- as.matrix(X)\n",
    "  X[abs(X) < stats::quantile(abs(X),0.95)] <- 0\n",
    "  X <- Matrix::Matrix(X)\n",
    "  return(X)\n",
    "}\n",
    "\n",
    "# QC quality control\n",
    "scQC <- function(X, mtThreshold = 0.1, minLSize = 1000){\n",
    "  if(class(X) == 'Seurat'){\n",
    "    countMatrix <- X@assays$RNA@counts\n",
    "  } else {\n",
    "    countMatrix <- X\n",
    "  }\n",
    "  librarySize <- colSums(countMatrix)\n",
    "  countMatrix <- countMatrix[,librarySize >= minLSize]\n",
    "  librarySize <- colSums(countMatrix)\n",
    "  mtGenes <- grep('^MT-',toupper(rownames(countMatrix)))\n",
    "  nGenes <- colSums(countMatrix != 0)\n",
    "\n",
    "  genesLM <- lm(nGenes~librarySize)\n",
    "  genesLM <- as.data.frame(predict(genesLM, data.frame(librarySize), interval = 'prediction'))\n",
    "\n",
    "  if(isTRUE(length(mtGenes) > 0)){\n",
    "    mtCounts <- colSums(countMatrix[grep('^MT-',toupper(rownames(countMatrix))),])\n",
    "    mtProportion <- mtCounts/librarySize\n",
    "    mtLM <- lm(mtCounts~librarySize)\n",
    "    mtLM <- as.data.frame(predict(mtLM, data.frame(librarySize), interval = 'prediction'))\n",
    "    selectedCells <- mtCounts > mtLM$lwr & mtCounts < mtLM$upr & nGenes > genesLM$lwr & nGenes < genesLM$upr & mtProportion <= mtThreshold & librarySize < 2 * mean(librarySize)\n",
    "  } else {\n",
    "    selectedCells <- nGenes > genesLM$lwr & nGenes < genesLM$upr & librarySize < 2 * mean(librarySize)\n",
    "  }\n",
    "  selectedCells <- colnames(countMatrix)[selectedCells]\n",
    "  if(class(X) == 'Seurat'){\n",
    "    X <- subset(X, cells = selectedCells)\n",
    "  } else {\n",
    "    X <- countMatrix[,selectedCells]\n",
    "  }\n",
    "  return(X)\n",
    "}\n",
    "\n",
    "# Strictly directed graph \n",
    "strictDirection <- function(X, lambda = 1){\n",
    "  S <- as.matrix(X)\n",
    "  S[abs(S) < abs(t(S))] <- 0\n",
    "  O <- (((1-lambda) * X) + (lambda * S))\n",
    "  O <- Matrix::Matrix(O)\n",
    "  return(O)\n",
    "}\n",
    "\n",
    "# main \n",
    "scTenifoldKnk <- function(countMatrix, qc = TRUE, gKO = NULL, qc_mtThreshold = 0.1, qc_minLSize = 1000, nc_lambda = 0, nc_nNet = 10, nc_nCells = 500, nc_nComp = 3,\n",
    "                          nc_scaleScores = TRUE, nc_symmetric = FALSE, nc_q = 0.9, td_K = 3, td_maxIter = 1000,\n",
    "                          td_maxError = 1e-05, td_nDecimal = 3, ma_nDim = 2, nCores = 64){\n",
    "\n",
    "  if(isTRUE(qc)){\n",
    "    countMatrix <- scQC(countMatrix, mtThreshold = qc_mtThreshold, minLSize = qc_minLSize)\n",
    "  }\n",
    "\n",
    "  if(ncol(countMatrix) > 500){\n",
    "    countMatrix <- countMatrix[rowMeans(countMatrix != 0) >= 0.05,] # Adjust this parameter dynamically\n",
    "  } else {\n",
    "    countMatrix[rowSums(countMatrix != 0) >= 25,]\n",
    "  }\n",
    "  WT <- scTenifoldNet::makeNetworks(X = countMatrix, q = nc_q, nNet = nc_nNet, nCells = nc_nCells, scaleScores = nc_scaleScores, symmetric = nc_symmetric, nComp = nc_nComp, nCores = nCores)\n",
    "\n",
    "  # Tensor decomposition\n",
    "  WT <- scTenifoldNet::tensorDecomposition(xList = WT, K = td_K, maxError = td_maxError, maxIter = td_maxIter, nDecimal = td_nDecimal)\n",
    "\n",
    "  WT <- WT$X\n",
    "  WT <- strictDirection(WT, lambda = nc_lambda)\n",
    "  WT <- as.matrix(WT)\n",
    "  diag(WT) <- 0\n",
    "  WT <- t(WT)\n",
    "    \n",
    "  # Preparing output\n",
    "  outputList <- list()\n",
    "  outputList$tensorNetworks$WT <- Matrix(WT)\n",
    "    \n",
    "  return(outputList)\n",
    "}\n",
    "\n"
   ]
  },
  {
   "cell_type": "code",
   "execution_count": 19,
   "metadata": {},
   "outputs": [],
   "source": [
    "norm_pcnetOutput <- scTenifoldKnk(countMatrix = wt_mat, \n",
    "                             nc_lambda = 1, # Strictly directed graphs\n",
    "                             nc_q = 0.9, # Keep the core\n",
    "                             nc_scaleScores = FALSE, # Unnormalized weights\n",
    "                             td_nDecimal = 8, # Keep decimals\n",
    "                             nCores = 12,\n",
    "                             qc_minLSize = 1000) \n",
    "\n",
    "norm_pcnetOutput = norm_pcnetOutput$tensorNetworks$WT"
   ]
  },
  {
   "cell_type": "code",
   "execution_count": null,
   "metadata": {},
   "outputs": [],
   "source": [
    "# Lexicographic sorting\n",
    "pcnetOutput_ordered = norm_pcnetOutput[order(rownames(norm_pcnetOutput)), order(colnames(norm_pcnetOutput))]"
   ]
  },
  {
   "cell_type": "markdown",
   "metadata": {},
   "source": [
    "## Save the GRN as a mm file"
   ]
  },
  {
   "cell_type": "code",
   "execution_count": null,
   "metadata": {},
   "outputs": [],
   "source": [
    "pcnetOutput_ordered_sp <- as(pcnetOutput_ordered, \"sparseMatrix\")\n",
    "\n",
    "writeMM(pcnetOutput_ordered_sp, \"./mm10_scATAC_GRN.mm\")"
   ]
  },
  {
   "cell_type": "markdown",
   "metadata": {},
   "source": [
    "## Save GRN as an rds file"
   ]
  },
  {
   "cell_type": "code",
   "execution_count": null,
   "metadata": {},
   "outputs": [],
   "source": [
    "saveRDS(pcnetOutput_ordered, file = \"./mm10_scATAC_GRN.rds\")"
   ]
  },
  {
   "cell_type": "code",
   "execution_count": null,
   "metadata": {},
   "outputs": [],
   "source": []
  }
 ],
 "metadata": {
  "kernelspec": {
   "display_name": "R [conda env:r4]",
   "language": "R",
   "name": "conda-env-r4-r"
  },
  "language_info": {
   "codemirror_mode": "r",
   "file_extension": ".r",
   "mimetype": "text/x-r-source",
   "name": "R",
   "pygments_lexer": "r",
   "version": "4.2.3"
  }
 },
 "nbformat": 4,
 "nbformat_minor": 2
}
